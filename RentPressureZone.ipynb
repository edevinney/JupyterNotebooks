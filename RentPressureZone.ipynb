{
 "cells": [
  {
   "cell_type": "code",
   "execution_count": null,
   "id": "7ab255be-1131-4414-9041-d75eeb23a88c",
   "metadata": {},
   "outputs": [],
   "source": [
    "import geopandas as gpd\n",
    "import h3pandas\n",
    "import pandas as pd\n",
    "from shapely.geometry import Point\n",
    "\n",
    "# Data sourced from Tailte Eireann Surveying Open Data Portal\n",
    "\n",
    "gdf = gpd.read_file(\"Local_Electoral_Areas_-_National_Statutory_Boundaries_-_2019.geojson\")\n"
   ]
  },
  {
   "cell_type": "code",
   "execution_count": null,
   "id": "4eb9ead3-f135-4184-9aad-dc781a1f6a47",
   "metadata": {},
   "outputs": [],
   "source": [
    "# Slice down to RPZs, taken from https://www.housingagency.ie/rent-pressure-zones\n",
    "# As of Nov 2023 the following Local Election Areas are designated RPZs:\n",
    "# All of the counties Dublin (4 LAs), Kildare, Louth, Meath, Wicklow, Kilkenny, Limerick, Waterford, Westmeath.\n",
    "# Specific LEAs: Carlow (Carlow). Graiguecullen/Portarlington, Portlaoise (Laoise). Tullamore (Offaly). Gorey (Wexford). Ennis, Shannon (Clare),\n",
    "#          Cork City, Ballincollig/Carrigaline, Bandon/Kinsale, Cobh, Fermoy, Macroom, Mallow, Midleton (Cork). Killarney (Kerry).\n",
    "#          Galway City, Athenry/Oranmore, Gort/Kinvara (Galway). Westport (Mayo). Sligo/Strandhill (Sligo).\n",
    "\n",
    "wgdf = gpd.GeoDataFrame([], columns=gdf.columns, crs=gdf.crs)\n",
    "counties = ['DUBLIN','KILDARE','LOUTH','MEATH','WICKLOW','KILKENNY','LIMERICK','WATERFORD','WESTMEATH']\n",
    "\n",
    "for county in counties:\n",
    "    wgdf = pd.concat([wgdf, gdf.loc[gdf['COUNTY'].eq(county)]])\n",
    "\n",
    "# Athlone is here, because it's in both Westmeath and is the only RPZ in Roscommon. Including Roscommon isn't clear from the Housing Agency, \n",
    "# but their map shows both. This'll cause a duplicate.\n",
    "leas = ['ATHLONE','CARLOW','GRAIGUECULLEN','PORTLAOISE','TULLAMORE','GOREY','ENNIS','SHANNON','CORK CITY','CARRIGALINE','BANDON',\\\n",
    "       'COBH','FERMOY','MACROOM','MALLOW','MIDLETON','KILLARNEY','GALWAY CITY','ATHENRY-ORANMORE','GORT-KINVARA','WESTPORT','SLIGO-STRANDHILL']\n",
    "\n",
    "for lea in leas:\n",
    "    wgdf = pd.concat([wgdf, gdf.loc[gdf['ENGLISH'].str.startswith(lea)]])    \n",
    "\n",
    "# Drop the duplicate Athlone (Westmeath)\n",
    "wgdf.drop_duplicates(inplace = True)\n",
    "\n",
    "# Drop the LEA in Limerick that was removed on the map but not described in text\n",
    "wgdf.drop(gdf[gdf['ENGLISH'].str.contains('CAPPAMORE')].index, inplace=True)\n",
    "\n",
    "# Drop Ennistimon and Enniscorthy, which came in with Ennis*\n",
    "wgdf.drop(gdf[gdf['ENGLISH'].str.contains('ENNISTIMON')].index, inplace=True)\n",
    "wgdf.drop(gdf[gdf['ENGLISH'].str.contains('ENNISCORTHY')].index, inplace=True)\n",
    "\n",
    "\n",
    "wgdf.to_file(\"rpz-Nov2023.geojson\", driver='GeoJSON')"
   ]
  },
  {
   "cell_type": "code",
   "execution_count": null,
   "id": "bbf0233b-0403-4ea3-acb0-90a673a29672",
   "metadata": {},
   "outputs": [],
   "source": [
    "# Resample to H3 cells if you want\n",
    "resolution = 8\n",
    "h3gdf = wgdf.h3.polyfill_resample(resolution)\n",
    "h3gdf.to_file('RPZH3.geojson', driver='GeoJSON')"
   ]
  },
  {
   "cell_type": "code",
   "execution_count": null,
   "id": "2fa82ee8-857a-4fe8-8ea7-c9a6a3b9fe91",
   "metadata": {},
   "outputs": [],
   "source": [
    "# aggregate the contiguous LEAs into single regions\n",
    "aggdf = wgdf.dissolve(by='COUNTY')\n",
    "aggdf.to_file(\"rpz-county-Nov2023.geojson\", driver='GeoJSON')"
   ]
  },
  {
   "cell_type": "code",
   "execution_count": null,
   "id": "de98a34e-9034-45a2-8217-4b755e53796f",
   "metadata": {},
   "outputs": [],
   "source": [
    "# aggregate the all of the RPSz into one single region. \n",
    "agg1df = wgdf\n",
    "agg1df['label'] = 'RPZ IE November 2023'\n",
    "agg1df = agg1df[['label','geometry']]\n",
    "agg1df = agg1df.dissolve()\n",
    "agg1df.to_file(\"rpz-singleshape-Nov2023.geojson\", driver='GeoJSON')"
   ]
  },
  {
   "cell_type": "code",
   "execution_count": null,
   "id": "ea5f814c-1c86-4d62-8732-d5db1e46f9e3",
   "metadata": {},
   "outputs": [],
   "source": [
    "# Check locations are within the RPZ polygon(s)\n",
    "# (n) Mondrian house, Amersfoort (5.386759251930647, 52.15779006424499)\n",
    "# (y) The Cobblestone, Dublin (-6.277864929040179, 53.34979645183707)\n",
    "# (y) St Mary's RC Killarney Town, Kerry (-9.517927328842022, 52.05929704113583)\n",
    "# (n) Murphy's Ice Cream, Dingle (-10.27174491630718, 52.139544817693626)\n",
    "# (y) The Tannery, Waterford (-7.61661931069334, 52.0885018412962)\n",
    "# (n) Enniscorthy Castle, Wexford (-6.567243451442291, 52.50135506704462)\n",
    "\n",
    "latlongs = [Point(5.386759251930647, 52.15779006424499),\\\n",
    "            Point(-6.277864929040179, 53.34979645183707),\\\n",
    "            Point(-9.517927328842022,52.05929704113583),\\\n",
    "            Point(-10.27174491630718, 52.139544817693626),\\\n",
    "            Point(-7.61661931069334, 52.0885018412962),\\\n",
    "            Point(-6.567243451442291, 52.50135506704462)]\n",
    "\n",
    "lldf = gpd.GeoDataFrame({'geometry':latlongs},crs=agg1df.crs)\n",
    "\n",
    "LLinRPZdf = gpd.sjoin(lldf, agg1df, predicate='within')\n",
    "\n",
    "print(LLinRPZdf)"
   ]
  },
  {
   "cell_type": "code",
   "execution_count": null,
   "id": "a86f9127-0b52-4e46-815e-2b8e3066a81e",
   "metadata": {},
   "outputs": [],
   "source": []
  }
 ],
 "metadata": {
  "kernelspec": {
   "display_name": "Python 3 (ipykernel)",
   "language": "python",
   "name": "python3"
  },
  "language_info": {
   "codemirror_mode": {
    "name": "ipython",
    "version": 3
   },
   "file_extension": ".py",
   "mimetype": "text/x-python",
   "name": "python",
   "nbconvert_exporter": "python",
   "pygments_lexer": "ipython3",
   "version": "3.9.13"
  }
 },
 "nbformat": 4,
 "nbformat_minor": 5
}
